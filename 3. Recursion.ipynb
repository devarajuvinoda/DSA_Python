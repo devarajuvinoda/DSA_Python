{
 "cells": [
  {
   "cell_type": "code",
   "execution_count": 19,
   "metadata": {
    "collapsed": true
   },
   "outputs": [],
   "source": [
    "# Factorial Of n\n",
    "def fact(n):\n",
    "    \n",
    "    if n == 0:\n",
    "        print(\"Its 0's turn\")\n",
    "        return(1)\n",
    "    \n",
    "    print(\"Returning\",n)\n",
    "    return(fact(n-1)*n)\n"
   ]
  },
  {
   "cell_type": "code",
   "execution_count": 20,
   "metadata": {},
   "outputs": [
    {
     "name": "stdout",
     "output_type": "stream",
     "text": [
      "Returning 7\n",
      "Returning 6\n",
      "Returning 5\n",
      "Returning 4\n",
      "Returning 3\n",
      "Returning 2\n",
      "Returning 1\n",
      "Its 0's turn\n"
     ]
    },
    {
     "data": {
      "text/plain": [
       "5040"
      ]
     },
     "execution_count": 20,
     "metadata": {},
     "output_type": "execute_result"
    }
   ],
   "source": [
    "fact(7)"
   ]
  },
  {
   "cell_type": "code",
   "execution_count": null,
   "metadata": {
    "collapsed": true
   },
   "outputs": [],
   "source": []
  },
  {
   "cell_type": "code",
   "execution_count": 39,
   "metadata": {},
   "outputs": [],
   "source": [
    "# Memoization\n",
    "# Store the result and extract later - \n",
    "# -when required to speed up the computation\n",
    "fact_memo = {}\n",
    "\n",
    "def factorial(k):\n",
    "    \n",
    "    if k == 0 :\n",
    "        return(1)\n",
    "    \n",
    "    if not k in fact_memo:\n",
    "        print('{} currently active'.format(k))\n",
    "        fact_memo[k] = k * factorial(k-1)\n",
    "        print('{} is added'.format(k))\n",
    "    \n",
    "    return fact_memo[k]\n",
    "        \n",
    "        "
   ]
  },
  {
   "cell_type": "code",
   "execution_count": 40,
   "metadata": {},
   "outputs": [
    {
     "name": "stdout",
     "output_type": "stream",
     "text": [
      "5 currently active\n",
      "4 currently active\n",
      "3 currently active\n",
      "2 currently active\n",
      "1 currently active\n",
      "1 is added\n",
      "2 is added\n",
      "3 is added\n",
      "4 is added\n",
      "5 is added\n"
     ]
    },
    {
     "data": {
      "text/plain": [
       "120"
      ]
     },
     "execution_count": 40,
     "metadata": {},
     "output_type": "execute_result"
    }
   ],
   "source": [
    "factorial(5)"
   ]
  },
  {
   "cell_type": "code",
   "execution_count": 41,
   "metadata": {},
   "outputs": [
    {
     "data": {
      "text/plain": [
       "{1: 1, 2: 2, 3: 6, 4: 24, 5: 120}"
      ]
     },
     "execution_count": 41,
     "metadata": {},
     "output_type": "execute_result"
    }
   ],
   "source": [
    "fact_memo"
   ]
  },
  {
   "cell_type": "code",
   "execution_count": 43,
   "metadata": {},
   "outputs": [
    {
     "data": {
      "text/plain": [
       "24"
      ]
     },
     "execution_count": 43,
     "metadata": {},
     "output_type": "execute_result"
    }
   ],
   "source": [
    "factorial(4)"
   ]
  },
  {
   "cell_type": "code",
   "execution_count": 44,
   "metadata": {},
   "outputs": [
    {
     "name": "stdout",
     "output_type": "stream",
     "text": [
      "7 currently active\n",
      "6 currently active\n",
      "6 is added\n",
      "7 is added\n"
     ]
    },
    {
     "data": {
      "text/plain": [
       "5040"
      ]
     },
     "execution_count": 44,
     "metadata": {},
     "output_type": "execute_result"
    }
   ],
   "source": [
    "factorial(7)"
   ]
  },
  {
   "cell_type": "code",
   "execution_count": 47,
   "metadata": {},
   "outputs": [
    {
     "data": {
      "text/plain": [
       "{1: 1, 2: 2, 3: 6, 4: 24, 5: 120, 6: 720, 7: 5040}"
      ]
     },
     "execution_count": 47,
     "metadata": {},
     "output_type": "execute_result"
    }
   ],
   "source": [
    "fact_memo"
   ]
  },
  {
   "cell_type": "code",
   "execution_count": null,
   "metadata": {
    "collapsed": true
   },
   "outputs": [],
   "source": []
  },
  {
   "cell_type": "code",
   "execution_count": 88,
   "metadata": {
    "collapsed": true
   },
   "outputs": [],
   "source": [
    "class Memoize:\n",
    "    def __init__(self, f):\n",
    "        self.f = f\n",
    "        self.memo = {}\n",
    "    \n",
    "    def __call__(self, args):\n",
    "        print(\"I'm also active for {}\".format(args))\n",
    "\n",
    "        if not args in self.memo:\n",
    "            print(self.f(args))\n",
    "            self.memo[args] = self.f(args)\n",
    "        return(self.memo[args])\n",
    "        "
   ]
  },
  {
   "cell_type": "code",
   "execution_count": 89,
   "metadata": {},
   "outputs": [],
   "source": [
    "def factorial(k):\n",
    "    \n",
    "    if k <= 1:\n",
    "        return(1)\n",
    "    \n",
    "    return(k * factorial(k-1))\n",
    "\n",
    "factorial = Memoize(factorial) "
   ]
  },
  {
   "cell_type": "code",
   "execution_count": 90,
   "metadata": {},
   "outputs": [
    {
     "name": "stdout",
     "output_type": "stream",
     "text": [
      "I'm also active for 6\n",
      "I'm also active for 5\n",
      "I'm also active for 4\n",
      "I'm also active for 3\n",
      "I'm also active for 2\n",
      "I'm also active for 1\n",
      "1\n",
      "2\n",
      "I'm also active for 1\n",
      "6\n",
      "I'm also active for 2\n",
      "24\n",
      "I'm also active for 3\n",
      "120\n",
      "I'm also active for 4\n",
      "720\n",
      "I'm also active for 5\n"
     ]
    },
    {
     "data": {
      "text/plain": [
       "720"
      ]
     },
     "execution_count": 90,
     "metadata": {},
     "output_type": "execute_result"
    }
   ],
   "source": [
    "factorial(6)"
   ]
  },
  {
   "cell_type": "code",
   "execution_count": 91,
   "metadata": {},
   "outputs": [
    {
     "data": {
      "text/plain": [
       "{1: 1, 2: 2, 3: 6, 4: 24, 5: 120, 6: 720}"
      ]
     },
     "execution_count": 91,
     "metadata": {},
     "output_type": "execute_result"
    }
   ],
   "source": [
    "factorial.memo"
   ]
  },
  {
   "cell_type": "code",
   "execution_count": null,
   "metadata": {
    "collapsed": true
   },
   "outputs": [],
   "source": []
  },
  {
   "cell_type": "code",
   "execution_count": 92,
   "metadata": {
    "collapsed": true
   },
   "outputs": [],
   "source": [
    "# A recursive function to calculate the sum till that number\n",
    "def rec_sum(k):\n",
    "    if k == 1:\n",
    "        return(1)\n",
    "    else:\n",
    "        return(rec_sum(k-1)+k)"
   ]
  },
  {
   "cell_type": "code",
   "execution_count": 93,
   "metadata": {},
   "outputs": [
    {
     "data": {
      "text/plain": [
       "15"
      ]
     },
     "execution_count": 93,
     "metadata": {},
     "output_type": "execute_result"
    }
   ],
   "source": [
    "rec_sum(5)"
   ]
  },
  {
   "cell_type": "code",
   "execution_count": 94,
   "metadata": {},
   "outputs": [
    {
     "data": {
      "text/plain": [
       "55"
      ]
     },
     "execution_count": 94,
     "metadata": {},
     "output_type": "execute_result"
    }
   ],
   "source": [
    "rec_sum(10)"
   ]
  },
  {
   "cell_type": "code",
   "execution_count": 98,
   "metadata": {},
   "outputs": [
    {
     "data": {
      "text/plain": [
       "2"
      ]
     },
     "execution_count": 98,
     "metadata": {},
     "output_type": "execute_result"
    }
   ],
   "source": [
    "int(432%10)"
   ]
  },
  {
   "cell_type": "code",
   "execution_count": 131,
   "metadata": {},
   "outputs": [],
   "source": [
    "# Given an integer, create a function which returns the sum of all the \n",
    "# individual digits in that integer. For example: if n = 4321, return \n",
    "# 4+3+2+1\n",
    "\n",
    "def num_sum(k):\n",
    "    \n",
    "    if k < 10:\n",
    "        print(\"another boss\",int(k))\n",
    "        return(int(k))\n",
    "    \n",
    "    else:\n",
    "        print(\"boss\",k)\n",
    "        return((k%10) + num_sum(int(k/10)))"
   ]
  },
  {
   "cell_type": "code",
   "execution_count": 132,
   "metadata": {},
   "outputs": [
    {
     "name": "stdout",
     "output_type": "stream",
     "text": [
      "boss 12345678910\n",
      "boss 1234567891\n",
      "boss 123456789\n",
      "boss 12345678\n",
      "boss 1234567\n",
      "boss 123456\n",
      "boss 12345\n",
      "boss 1234\n",
      "boss 123\n",
      "boss 12\n",
      "another boss 1\n"
     ]
    },
    {
     "data": {
      "text/plain": [
       "46"
      ]
     },
     "execution_count": 132,
     "metadata": {},
     "output_type": "execute_result"
    }
   ],
   "source": [
    "num_sum(12345678910)"
   ]
  },
  {
   "cell_type": "code",
   "execution_count": 107,
   "metadata": {},
   "outputs": [
    {
     "data": {
      "text/plain": [
       "7"
      ]
     },
     "execution_count": 107,
     "metadata": {},
     "output_type": "execute_result"
    }
   ],
   "source": [
    "(1234%10)+(123%10)"
   ]
  },
  {
   "cell_type": "code",
   "execution_count": 108,
   "metadata": {},
   "outputs": [
    {
     "data": {
      "text/plain": [
       "2"
      ]
     },
     "execution_count": 108,
     "metadata": {},
     "output_type": "execute_result"
    }
   ],
   "source": [
    "12%10"
   ]
  },
  {
   "cell_type": "code",
   "execution_count": 112,
   "metadata": {},
   "outputs": [
    {
     "data": {
      "text/plain": [
       "2"
      ]
     },
     "execution_count": 112,
     "metadata": {},
     "output_type": "execute_result"
    }
   ],
   "source": [
    "%10"
   ]
  },
  {
   "cell_type": "code",
   "execution_count": null,
   "metadata": {
    "collapsed": true
   },
   "outputs": [],
   "source": []
  },
  {
   "cell_type": "code",
   "execution_count": 173,
   "metadata": {
    "collapsed": true
   },
   "outputs": [],
   "source": [
    "# World Split Problem\n",
    "def word_split(phrase, list_to_compare, output = None):\n",
    "    \n",
    "    if output is None:\n",
    "        output = []\n",
    "        print(\"I'm running\")\n",
    "    \n",
    "    for word in list_to_compare:\n",
    "        print(word)\n",
    "        if phrase.startswith(word):\n",
    "            print(\"another\" +\"    \"+word)\n",
    "            output.append(word)\n",
    "            print(output)\n",
    "            return(word_split(phrase[len(word):], list_to_compare, output))\n",
    "    \n",
    "    return(output)"
   ]
  },
  {
   "cell_type": "code",
   "execution_count": 175,
   "metadata": {},
   "outputs": [
    {
     "name": "stdout",
     "output_type": "stream",
     "text": [
      "I'm running\n",
      "deva\n",
      "another    deva\n",
      "['deva']\n",
      "deva\n",
      "raju\n",
      "another    raju\n",
      "['deva', 'raju']\n",
      "deva\n",
      "raju\n",
      "v\n",
      "another    v\n",
      "['deva', 'raju', 'v']\n",
      "deva\n",
      "raju\n",
      "v\n"
     ]
    },
    {
     "data": {
      "text/plain": [
       "['deva', 'raju', 'v']"
      ]
     },
     "execution_count": 175,
     "metadata": {},
     "output_type": "execute_result"
    }
   ],
   "source": [
    "word_split('devarajuv',['deva','raju','v'])"
   ]
  },
  {
   "cell_type": "code",
   "execution_count": null,
   "metadata": {
    "collapsed": true
   },
   "outputs": [],
   "source": []
  },
  {
   "cell_type": "code",
   "execution_count": null,
   "metadata": {
    "collapsed": true
   },
   "outputs": [],
   "source": []
  }
 ],
 "metadata": {
  "kernelspec": {
   "display_name": "Python 3",
   "language": "python",
   "name": "python3"
  },
  "language_info": {
   "codemirror_mode": {
    "name": "ipython",
    "version": 3
   },
   "file_extension": ".py",
   "mimetype": "text/x-python",
   "name": "python",
   "nbconvert_exporter": "python",
   "pygments_lexer": "ipython3",
   "version": "3.6.2"
  }
 },
 "nbformat": 4,
 "nbformat_minor": 2
}
