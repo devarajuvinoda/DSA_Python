{
 "cells": [
  {
   "cell_type": "markdown",
   "metadata": {},
   "source": [
    "# Hash Tables:\n",
    "\n",
    "O(1) constant time search (No collisions). \n"
   ]
  },
  {
   "cell_type": "code",
   "execution_count": 15,
   "metadata": {},
   "outputs": [],
   "source": [
    "class HashTable:\n",
    "    def __init__(self):\n",
    "        self.size = 11\n",
    "        self.slots = [None] * self.size\n",
    "        self.data = [None] * self.size\n",
    "    def put(self, key, data):\n",
    "        hash_val = self.hash_function(key, len(self.slots))\n",
    "    \n",
    "        if( self.slots[hash_val] == None):\n",
    "            self.slots[hash_val] = key\n",
    "            self.data[hash_val] = data\n",
    "        else:\n",
    "            if( self.slots[hash_val] == key):\n",
    "                self.data[hash_val] = data\n",
    "            else:\n",
    "                next_slot = self.re_hash(hash_val, len(self.slots))\n",
    "                while( self.slots[next_slot] != None and self.slots[next_slot] != key):\n",
    "                    next_slot = self.re_hash(next_slot, len(self.slots))\n",
    "            \n",
    "                if(self.slots[next_slot] == None):\n",
    "                    self.slots[next_slot] = key\n",
    "                    self.data[next_slot] = data\n",
    "                else:\n",
    "                    self.data[next_slot] = data\n",
    "\n",
    "    def hash_function(self, key, size):\n",
    "        return(key % size)\n",
    "\n",
    "    def re_hash(self, old_hash, size):\n",
    "        return((old_hash + 1)% size)\n",
    "            \n",
    "    def get(self, key):\n",
    "        start_slot = self.hash_function(key, len(self.slots))\n",
    "        \n",
    "        data = None\n",
    "        stop = False\n",
    "        found = False\n",
    "        position = start_slot\n",
    "        \n",
    "        while(self.slots[position] != None and not found and not stop):\n",
    "            if( self.slots[position] == key):\n",
    "                found = True\n",
    "                data = self.data[position]\n",
    "            else:\n",
    "                position = self.re_hash(position, len(self.slots))\n",
    "                \n",
    "                if( position == start_slot):\n",
    "                    stop = True\n",
    "        return(data)\n",
    "    \n",
    "    def __getitem__(self, key):\n",
    "        return(self.get(key))\n",
    "    \n",
    "    def __setitem__(self, key, data):\n",
    "        self.put(key, data)"
   ]
  },
  {
   "cell_type": "code",
   "execution_count": 27,
   "metadata": {
    "collapsed": true
   },
   "outputs": [],
   "source": [
    "a = HashTable()"
   ]
  },
  {
   "cell_type": "code",
   "execution_count": 35,
   "metadata": {},
   "outputs": [],
   "source": [
    "a[12] = 'dev'\n",
    "a[14] = 'raj'\n",
    "a[23] = '34'\n",
    "a[34] = 'python'\n",
    "a[89] = 'mobile'\n",
    "a[22] = 'first'\n",
    "a[23] = 'in place of 12'"
   ]
  },
  {
   "cell_type": "code",
   "execution_count": 36,
   "metadata": {},
   "outputs": [
    {
     "data": {
      "text/plain": [
       "[22, 12, 23, 14, 34, 89, None, None, None, None, None]"
      ]
     },
     "execution_count": 36,
     "metadata": {},
     "output_type": "execute_result"
    }
   ],
   "source": [
    "a.slots"
   ]
  },
  {
   "cell_type": "code",
   "execution_count": 37,
   "metadata": {},
   "outputs": [
    {
     "data": {
      "text/plain": [
       "['first',\n",
       " 'dev',\n",
       " 'in place of 12',\n",
       " 'raj',\n",
       " 'python',\n",
       " 'mobile',\n",
       " None,\n",
       " None,\n",
       " None,\n",
       " None,\n",
       " None]"
      ]
     },
     "execution_count": 37,
     "metadata": {},
     "output_type": "execute_result"
    }
   ],
   "source": [
    "a.data"
   ]
  },
  {
   "cell_type": "code",
   "execution_count": null,
   "metadata": {
    "collapsed": true
   },
   "outputs": [],
   "source": []
  }
 ],
 "metadata": {
  "kernelspec": {
   "display_name": "Python 3",
   "language": "python",
   "name": "python3"
  },
  "language_info": {
   "codemirror_mode": {
    "name": "ipython",
    "version": 3
   },
   "file_extension": ".py",
   "mimetype": "text/x-python",
   "name": "python",
   "nbconvert_exporter": "python",
   "pygments_lexer": "ipython3",
   "version": "3.6.3"
  }
 },
 "nbformat": 4,
 "nbformat_minor": 2
}
