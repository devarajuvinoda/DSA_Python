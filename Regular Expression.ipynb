{
 "cells": [
  {
   "cell_type": "markdown",
   "metadata": {},
   "source": [
    "# Regular Expression\n",
    "\n",
    "### pattern matching\n",
    "\n",
    "Regular expressions are Python’s method of letting your program look for patterns."
   ]
  },
  {
   "cell_type": "code",
   "execution_count": 1,
   "metadata": {
    "collapsed": true
   },
   "outputs": [],
   "source": [
    "import re"
   ]
  },
  {
   "cell_type": "code",
   "execution_count": 3,
   "metadata": {},
   "outputs": [
    {
     "name": "stdout",
     "output_type": "stream",
     "text": [
      "Enter a name/ word: raj\n",
      "raj does not contain letter \"e\"\n"
     ]
    }
   ],
   "source": [
    "# searh a word\n",
    "word = input('Enter a name/ word: ')\n",
    "found = re.search(r'e', word)\n",
    "\n",
    "if(found):\n",
    "    print(word, 'contains letter \"e\"')\n",
    "else:\n",
    "    print(word, 'does not contain letter \"e\"')"
   ]
  },
  {
   "cell_type": "markdown",
   "metadata": {},
   "source": [
    "### The pattern is a string preceded by the letter  r, which tells Python to interpet the string as a regular expression."
   ]
  },
  {
   "cell_type": "code",
   "execution_count": 4,
   "metadata": {
    "collapsed": true
   },
   "outputs": [],
   "source": [
    "# searh a word\n",
    "def find(word):\n",
    "    found = re.search(r'e', word)\n",
    "\n",
    "    if(found):\n",
    "        print(word, 'contains letter \"e\"')\n",
    "    else:\n",
    "        print(word, 'does not contain letter \"e\"')"
   ]
  },
  {
   "cell_type": "code",
   "execution_count": 6,
   "metadata": {},
   "outputs": [
    {
     "name": "stdout",
     "output_type": "stream",
     "text": [
      "raj does not contain letter \"e\"\n"
     ]
    }
   ],
   "source": [
    "find('raj')"
   ]
  },
  {
   "cell_type": "code",
   "execution_count": 7,
   "metadata": {},
   "outputs": [
    {
     "name": "stdout",
     "output_type": "stream",
     "text": [
      "devarju contains letter \"e\"\n"
     ]
    }
   ],
   "source": [
    "find('devarju')"
   ]
  },
  {
   "cell_type": "code",
   "execution_count": 8,
   "metadata": {},
   "outputs": [
    {
     "name": "stdout",
     "output_type": "stream",
     "text": [
      "eat contains letter \"e\"\n"
     ]
    }
   ],
   "source": [
    "find('eat')"
   ]
  },
  {
   "cell_type": "code",
   "execution_count": 9,
   "metadata": {},
   "outputs": [
    {
     "name": "stdout",
     "output_type": "stream",
     "text": [
      "easy contains letter \"e\"\n"
     ]
    }
   ],
   "source": [
    "find('easy')"
   ]
  },
  {
   "cell_type": "markdown",
   "metadata": {},
   "source": [
    "### To say “any character at all”, use a dot ( . )"
   ]
  },
  {
   "cell_type": "code",
   "execution_count": 36,
   "metadata": {
    "collapsed": true
   },
   "outputs": [],
   "source": [
    "# To match 'e' followed by any charecter at all \n",
    "#  followed by 't'   ie. e(_)t\n",
    "import re\n",
    "\n",
    "def find(pattern, word):\n",
    "    found = re.search(pattern, word)\n",
    "    if(found):\n",
    "        print(word,' contains pattern')\n",
    "    else:\n",
    "        print(word,' does not contain pattern')"
   ]
  },
  {
   "cell_type": "code",
   "execution_count": 37,
   "metadata": {},
   "outputs": [
    {
     "name": "stdout",
     "output_type": "stream",
     "text": [
      "hotel  does not contain pattern\n"
     ]
    }
   ],
   "source": [
    "find(r'e.t', 'hotel')"
   ]
  },
  {
   "cell_type": "code",
   "execution_count": 38,
   "metadata": {},
   "outputs": [
    {
     "name": "stdout",
     "output_type": "stream",
     "text": [
      "better  contains pattern\n"
     ]
    }
   ],
   "source": [
    "find(r'e.t', 'better')"
   ]
  },
  {
   "cell_type": "code",
   "execution_count": 39,
   "metadata": {},
   "outputs": [
    {
     "name": "stdout",
     "output_type": "stream",
     "text": [
      "devaraju  contains pattern\n"
     ]
    }
   ],
   "source": [
    "find(r'e.a', 'devaraju')   # 'e' follwed by 'any letter' \n",
    "                           # follwed by 'a'"
   ]
  },
  {
   "cell_type": "markdown",
   "metadata": {},
   "source": [
    "### To match any one of a certain series of characters, enclose them in square brackets [ ]"
   ]
  },
  {
   "cell_type": "code",
   "execution_count": 40,
   "metadata": {},
   "outputs": [
    {
     "name": "stdout",
     "output_type": "stream",
     "text": [
      "seoul  does not contain pattern\n"
     ]
    }
   ],
   "source": [
    "find(r'e[aeiou]t', 'seoul')"
   ]
  },
  {
   "cell_type": "code",
   "execution_count": 41,
   "metadata": {},
   "outputs": [
    {
     "name": "stdout",
     "output_type": "stream",
     "text": [
      "rabbit  contains pattern\n"
     ]
    }
   ],
   "source": [
    "find(r'b[aeiou]t', 'rabbit')"
   ]
  },
  {
   "cell_type": "code",
   "execution_count": 42,
   "metadata": {},
   "outputs": [
    {
     "name": "stdout",
     "output_type": "stream",
     "text": [
      "bat  contains pattern\n"
     ]
    }
   ],
   "source": [
    "find(r'b[aeiou]t', 'bat')"
   ]
  },
  {
   "cell_type": "code",
   "execution_count": 43,
   "metadata": {},
   "outputs": [
    {
     "name": "stdout",
     "output_type": "stream",
     "text": [
      "robotic  contains pattern\n"
     ]
    }
   ],
   "source": [
    "find(r'b[aeiou]t', 'robotic')"
   ]
  },
  {
   "cell_type": "markdown",
   "metadata": {},
   "source": [
    "### Abbreviations for establishing a series of letters: [a-f] is the same as [abcdef]\n",
    "### [A-Gm-p] is the same as [ABCDEFGmnop] \n",
    "### [0-9] matches a single digit (same as [0123456789])."
   ]
  },
  {
   "cell_type": "markdown",
   "metadata": {},
   "source": [
    "### complement (negate) a class, use ^ infront of series\n",
    "### Anything except a vowel [^aeiouAEIOU] "
   ]
  },
  {
   "cell_type": "markdown",
   "metadata": {},
   "source": [
    "### Abbreviation-------Means----------- Same as\n",
    "    \\d \t       a digit \t                    [0-9]\n",
    "    \\w \t       a “word” character; \n",
    "               upper/lowercase letter,    [A-Za-z0-9_]                                                              \t           digit, underscore     \n",
    "    \\s \t       a whitespace character \n",
    "                (blank, new line, tab)     [ \\r\\t\\n]\n",
    "### And their complements:\n",
    "    \\D \t       a non-digit            \t    [^0-9]\n",
    "    \\W         a non-word character \t  [^A-Za-z0-9_]\n",
    "    \\S \t       a non-whitespace character  [^ \\r\\t\\n]"
   ]
  },
  {
   "cell_type": "code",
   "execution_count": 57,
   "metadata": {
    "collapsed": true
   },
   "outputs": [],
   "source": [
    "def find_num(num):\n",
    "    found = re.search(r'\\d\\d\\d-\\d\\d-\\d\\d\\d\\d', num)\n",
    "    # can also be written as\n",
    "  # found = re.search(r'\\d{3}-\\d{2}-\\d{4})\n",
    "    if(found):\n",
    "        print(num, 'contains a security number')\n",
    "    else:\n",
    "        print(num, 'does not contain a security number')"
   ]
  },
  {
   "cell_type": "code",
   "execution_count": 45,
   "metadata": {},
   "outputs": [
    {
     "name": "stdout",
     "output_type": "stream",
     "text": [
      "387-76-4552 contains a security number\n"
     ]
    }
   ],
   "source": [
    "find_num('387-76-4552')"
   ]
  },
  {
   "cell_type": "code",
   "execution_count": 46,
   "metadata": {},
   "outputs": [
    {
     "name": "stdout",
     "output_type": "stream",
     "text": [
      "55445-54545-76453 does not contain a security number\n"
     ]
    }
   ],
   "source": [
    "find_num('55445-54545-76453')"
   ]
  },
  {
   "cell_type": "markdown",
   "metadata": {},
   "source": [
    "### Anchors: They simply establish that you are on the correct boundaries.\n",
    "### Anchors do not match any character    "
   ]
  },
  {
   "cell_type": "markdown",
   "metadata": {},
   "source": [
    " ^ matches the beginning of a line.\n",
    " $ mathches the end of a line.\n",
    " ^[A-Z] matches capital letter at beginning of the line (    its not [^A-Z])"
   ]
  },
  {
   "cell_type": "markdown",
   "metadata": {},
   "source": [
    "### http://evc-cit.info/comsc020/python-regex-tutorial/#"
   ]
  },
  {
   "cell_type": "code",
   "execution_count": 47,
   "metadata": {},
   "outputs": [
    {
     "name": "stdout",
     "output_type": "stream",
     "text": [
      "metal plate  contains pattern\n"
     ]
    }
   ],
   "source": [
    "find(r'\\bmet', 'metal plate')"
   ]
  },
  {
   "cell_type": "code",
   "execution_count": 48,
   "metadata": {},
   "outputs": [
    {
     "name": "stdout",
     "output_type": "stream",
     "text": [
      "The hat is red  contains pattern\n"
     ]
    }
   ],
   "source": [
    "find(r'\\bhat\\b', 'The hat is red')"
   ]
  },
  {
   "cell_type": "code",
   "execution_count": 51,
   "metadata": {},
   "outputs": [
    {
     "name": "stdout",
     "output_type": "stream",
     "text": [
      "beat  contains pattern\n"
     ]
    }
   ],
   "source": [
    "find(r'b[aeiou]{2}t', 'beat')  # 'b' followed by '2 vowels'\n",
    "                               #  followed by 't'"
   ]
  },
  {
   "cell_type": "code",
   "execution_count": 52,
   "metadata": {},
   "outputs": [
    {
     "name": "stdout",
     "output_type": "stream",
     "text": [
      "beagon  does not contain pattern\n"
     ]
    }
   ],
   "source": [
    "find(r'b[aeuio]t', 'beagon')"
   ]
  },
  {
   "cell_type": "code",
   "execution_count": 53,
   "metadata": {},
   "outputs": [
    {
     "name": "stdout",
     "output_type": "stream",
     "text": [
      "A23424  contains pattern\n"
     ]
    }
   ],
   "source": [
    "find(r'A\\d{3,}', 'A23424')"
   ]
  },
  {
   "cell_type": "code",
   "execution_count": 54,
   "metadata": {},
   "outputs": [
    {
     "name": "stdout",
     "output_type": "stream",
     "text": [
      "A23  does not contain pattern\n"
     ]
    }
   ],
   "source": [
    "find(r'A\\d{3,}', 'A23')"
   ]
  },
  {
   "cell_type": "code",
   "execution_count": 55,
   "metadata": {},
   "outputs": [
    {
     "name": "stdout",
     "output_type": "stream",
     "text": [
      "A231  contains pattern\n"
     ]
    }
   ],
   "source": [
    "find(r'A\\d', 'A231')"
   ]
  },
  {
   "cell_type": "markdown",
   "metadata": {},
   "source": [
    "### * means zero or more \n",
    "### + means one or more\n",
    "### ? means zero or one\n",
    "### ----------------------------------------------------------------------"
   ]
  },
  {
   "cell_type": "markdown",
   "metadata": {},
   "source": [
    "#### ^     starting at the beginning of the string\n",
    "#### \\w+   look for one or more word characters\n",
    "#### ,?    followed by an optional comma (zero or one commas)\n",
    "#### \\s*   zero or more spaces\n",
    "#### [A-Z] and a capital letter\n",
    "####  $     which must be at the end of the string"
   ]
  },
  {
   "cell_type": "markdown",
   "metadata": {},
   "source": [
    "r'^\\w+,?\\s*[A-Z]$'\n"
   ]
  },
  {
   "cell_type": "code",
   "execution_count": 59,
   "metadata": {},
   "outputs": [
    {
     "name": "stdout",
     "output_type": "stream",
     "text": [
      "Devaraju, V  contains pattern\n"
     ]
    }
   ],
   "source": [
    "find(r'^\\w+,?\\s*[A-Z]$', 'Devaraju, V')"
   ]
  },
  {
   "cell_type": "code",
   "execution_count": 60,
   "metadata": {},
   "outputs": [
    {
     "name": "stdout",
     "output_type": "stream",
     "text": [
      "devarju  does not contain pattern\n"
     ]
    }
   ],
   "source": [
    "find(r'^\\w+,?\\s*[A-Z]$', 'devarju')"
   ]
  },
  {
   "cell_type": "code",
   "execution_count": 61,
   "metadata": {},
   "outputs": [
    {
     "name": "stdout",
     "output_type": "stream",
     "text": [
      "d evaraju, V  does not contain pattern\n"
     ]
    }
   ],
   "source": [
    "find(r'^\\w+,?\\s*[A-Z]$', 'd evaraju, V')"
   ]
  },
  {
   "cell_type": "code",
   "execution_count": 62,
   "metadata": {
    "collapsed": true
   },
   "outputs": [],
   "source": [
    "def valid_post_code(code):\n",
    "    found = re.search(r'^[A-Z]\\d[A-Z]\\s+\\d[A-Z]\\d$', code, flags = re.I)\n",
    "    if(found):\n",
    "        print(code,' is a valid postal code')\n",
    "    else:\n",
    "        print(code,' is invalid')"
   ]
  },
  {
   "cell_type": "code",
   "execution_count": 64,
   "metadata": {},
   "outputs": [
    {
     "name": "stdout",
     "output_type": "stream",
     "text": [
      "A4B 9H3  is a valid postal code\n"
     ]
    }
   ],
   "source": [
    "valid_post_code('A4B 9H3')"
   ]
  },
  {
   "cell_type": "code",
   "execution_count": 67,
   "metadata": {},
   "outputs": [
    {
     "name": "stdout",
     "output_type": "stream",
     "text": [
      "a4k 3g6  is a valid postal code\n"
     ]
    }
   ],
   "source": [
    "valid_post_code('a4k 3g6')    # flags = re.I (ignore-case)"
   ]
  },
  {
   "cell_type": "code",
   "execution_count": 68,
   "metadata": {},
   "outputs": [
    {
     "name": "stdout",
     "output_type": "stream",
     "text": [
      "r44 7f5  is invalid\n"
     ]
    }
   ],
   "source": [
    "valid_post_code('r44 7f5')"
   ]
  },
  {
   "cell_type": "markdown",
   "metadata": {},
   "source": [
    "### search() used for searching\n",
    "### findall() all the list of matched strings \n",
    "### sub() used for substitution"
   ]
  },
  {
   "cell_type": "code",
   "execution_count": 70,
   "metadata": {},
   "outputs": [
    {
     "name": "stdout",
     "output_type": "stream",
     "text": [
      "366-645-XXXX\n"
     ]
    }
   ],
   "source": [
    "substitute = re.sub(r'-\\d{4}', r'-XXXX', '366-645-4344')\n",
    "print(substitute)"
   ]
  },
  {
   "cell_type": "code",
   "execution_count": 75,
   "metadata": {},
   "outputs": [
    {
     "name": "stdout",
     "output_type": "stream",
     "text": [
      "V. Devu\n",
      "Joe-Bob Smythe-Fauntleroy\n",
      "Madonna\n",
      "M. Gonzales\n"
     ]
    }
   ],
   "source": [
    "def swap_name(input_str):\n",
    "    result = re.sub(r'^(\\w+),?\\s*([A-Z])$', r'\\2. \\1', input_str )\n",
    "    return result\n",
    "\n",
    "print(swap_name('Devu, V'))\n",
    "print(swap_name('Joe-Bob Smythe-Fauntleroy'))\n",
    "print(swap_name('Madonna'))\n",
    "print(swap_name('Gonzales M'))"
   ]
  },
  {
   "cell_type": "code",
   "execution_count": null,
   "metadata": {
    "collapsed": true
   },
   "outputs": [],
   "source": []
  }
 ],
 "metadata": {
  "kernelspec": {
   "display_name": "Python 3",
   "language": "python",
   "name": "python3"
  },
  "language_info": {
   "codemirror_mode": {
    "name": "ipython",
    "version": 3
   },
   "file_extension": ".py",
   "mimetype": "text/x-python",
   "name": "python",
   "nbconvert_exporter": "python",
   "pygments_lexer": "ipython3",
   "version": "3.6.3"
  }
 },
 "nbformat": 4,
 "nbformat_minor": 2
}
